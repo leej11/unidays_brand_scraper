{
 "cells": [
  {
   "cell_type": "markdown",
   "id": "933d8451-039e-486e-9983-4039a0bda7ae",
   "metadata": {},
   "source": [
    "## UniDays Brand Scraper for Different Countries\n",
    "\n",
    "A quick tool to scrape a distinct list of brands on the UNiDAYS website, for each country/language specific site."
   ]
  },
  {
   "cell_type": "code",
   "execution_count": 1,
   "id": "c741af7b-ac06-4053-8a94-754ef674141f",
   "metadata": {},
   "outputs": [],
   "source": [
    "import matplotlib.pyplot as plt\n",
    "import pandas as pd\n",
    "import seaborn as sns\n",
    "import requests\n",
    "import bs4"
   ]
  },
  {
   "cell_type": "code",
   "execution_count": 2,
   "id": "be01720c-e347-4af2-a35a-a3c5c4e5a2ee",
   "metadata": {},
   "outputs": [],
   "source": [
    "input_dict = {\n",
    "    'France': ('FR', 'fr'),\n",
    "    'Germany': ('DE', 'de'),\n",
    "    'Austria':('AT', 'de'),\n",
    "    'Switzerland':('CH', 'de'),\n",
    "    'Belgium':('BE', 'fr'),\n",
    "    'US':('US', 'en'),\n",
    "    'Australia':('AU', 'en'),\n",
    "    'Sweden':('SE', 'sv'),\n",
    "    'UK':('GB', 'en'),\n",
    "    'Spain':('ES', 'es'),\n",
    "    'Italy':('IT', 'it'),\n",
    "}"
   ]
  },
  {
   "cell_type": "code",
   "execution_count": 3,
   "id": "06b8232e-7f56-4a93-b14b-778098c774e6",
   "metadata": {},
   "outputs": [],
   "source": [
    "def get_distinct_list_of_partners(country_codes_dict):\n",
    "    \n",
    "    output_dict = {}\n",
    "    \n",
    "    for country in country_codes_dict.keys():\n",
    "    \n",
    "        country_code = country_codes_dict[country][0]\n",
    "        language_code = country_codes_dict[country][1]\n",
    "    \n",
    "        URL = f\"https://www.myunidays.com/{country_code}/{language_code}-{country_code}/list/all/AtoZ\"\n",
    "        page = requests.get(URL)\n",
    "        soup = bs4.BeautifulSoup(page.content, \"html.parser\")\n",
    "        title_logos = soup.find_all(\"div\", class_=\"tile__logo\")\n",
    "\n",
    "        brands = set()\n",
    "        for logo in title_logos:\n",
    "            image = logo.find(\"img\")\n",
    "            # print(image)\n",
    "            # print(image['alt'])\n",
    "            brands.add(image['alt'])\n",
    "            \n",
    "        output_dict[country] = {}\n",
    "        output_dict[country]['brand_list'] = brands\n",
    "        output_dict[country]['num_brands'] = len(brands)\n",
    "\n",
    "    return output_dict"
   ]
  },
  {
   "cell_type": "code",
   "execution_count": 4,
   "id": "28a7e02d-a4fb-4f78-bd30-06756c36ef63",
   "metadata": {},
   "outputs": [],
   "source": [
    "output = get_distinct_list_of_partners(input_dict)"
   ]
  },
  {
   "cell_type": "code",
   "execution_count": 5,
   "id": "b6879b2c-496d-4552-b643-5d2c6844ebc6",
   "metadata": {},
   "outputs": [
    {
     "name": "stdout",
     "output_type": "stream",
     "text": [
      "France: # 151 brands\n",
      "Germany: # 199 brands\n",
      "Austria: # 47 brands\n",
      "Switzerland: # 28 brands\n",
      "Belgium: # 23 brands\n",
      "US: # 217 brands\n",
      "Australia: # 180 brands\n",
      "Sweden: # 23 brands\n",
      "UK: # 372 brands\n",
      "Spain: # 93 brands\n",
      "Italy: # 70 brands\n"
     ]
    }
   ],
   "source": [
    "for country in output.keys():\n",
    "    print(f\"{country}: # {output[country]['num_brands']} brands\")"
   ]
  },
  {
   "cell_type": "code",
   "execution_count": 6,
   "id": "e790558d-099f-41f2-9051-f1db1a5e4f83",
   "metadata": {},
   "outputs": [],
   "source": [
    "temp_df = pd.DataFrame(output).T.reset_index().rename(columns={'index':'country'}).sort_values(by=['num_brands'], ascending=False)"
   ]
  },
  {
   "cell_type": "code",
   "execution_count": 7,
   "id": "882b67f9-212d-4828-832c-909345d7296a",
   "metadata": {},
   "outputs": [
    {
     "data": {
      "text/html": [
       "<div>\n",
       "<style scoped>\n",
       "    .dataframe tbody tr th:only-of-type {\n",
       "        vertical-align: middle;\n",
       "    }\n",
       "\n",
       "    .dataframe tbody tr th {\n",
       "        vertical-align: top;\n",
       "    }\n",
       "\n",
       "    .dataframe thead th {\n",
       "        text-align: right;\n",
       "    }\n",
       "</style>\n",
       "<table border=\"1\" class=\"dataframe\">\n",
       "  <thead>\n",
       "    <tr style=\"text-align: right;\">\n",
       "      <th></th>\n",
       "      <th>country</th>\n",
       "      <th>brand_list</th>\n",
       "      <th>num_brands</th>\n",
       "    </tr>\n",
       "  </thead>\n",
       "  <tbody>\n",
       "    <tr>\n",
       "      <th>8</th>\n",
       "      <td>UK</td>\n",
       "      <td>{Camper, Sky, M•A•C Cosmetics, Converse, Dr. J...</td>\n",
       "      <td>372</td>\n",
       "    </tr>\n",
       "    <tr>\n",
       "      <th>5</th>\n",
       "      <td>US</td>\n",
       "      <td>{Glasses.com, barre3 Online, LAMODA, Camper, S...</td>\n",
       "      <td>217</td>\n",
       "    </tr>\n",
       "    <tr>\n",
       "      <th>1</th>\n",
       "      <td>Germany</td>\n",
       "      <td>{Sennheiser, IDEAL OF SWEDEN, Ralph Lauren, Ri...</td>\n",
       "      <td>199</td>\n",
       "    </tr>\n",
       "    <tr>\n",
       "      <th>6</th>\n",
       "      <td>Australia</td>\n",
       "      <td>{Adrenaline, Sennheiser, IDEAL OF SWEDEN, Lovi...</td>\n",
       "      <td>180</td>\n",
       "    </tr>\n",
       "    <tr>\n",
       "      <th>0</th>\n",
       "      <td>France</td>\n",
       "      <td>{LAMODA, Camper, Prime Student, Sennheiser, ID...</td>\n",
       "      <td>151</td>\n",
       "    </tr>\n",
       "    <tr>\n",
       "      <th>9</th>\n",
       "      <td>Spain</td>\n",
       "      <td>{Camper, Hofmann, Rituals, Hypnia Colchón, Con...</td>\n",
       "      <td>93</td>\n",
       "    </tr>\n",
       "    <tr>\n",
       "      <th>10</th>\n",
       "      <td>Italy</td>\n",
       "      <td>{Acer, Camper, PUMA, Intrepid Travel, Samsung,...</td>\n",
       "      <td>70</td>\n",
       "    </tr>\n",
       "    <tr>\n",
       "      <th>2</th>\n",
       "      <td>Austria</td>\n",
       "      <td>{Sennheiser, N26, Rituals, Intrepid Travel, Mi...</td>\n",
       "      <td>47</td>\n",
       "    </tr>\n",
       "    <tr>\n",
       "      <th>3</th>\n",
       "      <td>Switzerland</td>\n",
       "      <td>{Sennheiser, Dell, Mister Spex, Shopbop, Apple...</td>\n",
       "      <td>28</td>\n",
       "    </tr>\n",
       "    <tr>\n",
       "      <th>4</th>\n",
       "      <td>Belgium</td>\n",
       "      <td>{ASICS, Shopbop, Apple Music, Jack &amp; Jones, Un...</td>\n",
       "      <td>23</td>\n",
       "    </tr>\n",
       "    <tr>\n",
       "      <th>7</th>\n",
       "      <td>Sweden</td>\n",
       "      <td>{Intrepid Travel, HelloFresh, ASICS, Shopbop, ...</td>\n",
       "      <td>23</td>\n",
       "    </tr>\n",
       "  </tbody>\n",
       "</table>\n",
       "</div>"
      ],
      "text/plain": [
       "        country                                         brand_list num_brands\n",
       "8            UK  {Camper, Sky, M•A•C Cosmetics, Converse, Dr. J...        372\n",
       "5            US  {Glasses.com, barre3 Online, LAMODA, Camper, S...        217\n",
       "1       Germany  {Sennheiser, IDEAL OF SWEDEN, Ralph Lauren, Ri...        199\n",
       "6     Australia  {Adrenaline, Sennheiser, IDEAL OF SWEDEN, Lovi...        180\n",
       "0        France  {LAMODA, Camper, Prime Student, Sennheiser, ID...        151\n",
       "9         Spain  {Camper, Hofmann, Rituals, Hypnia Colchón, Con...         93\n",
       "10        Italy  {Acer, Camper, PUMA, Intrepid Travel, Samsung,...         70\n",
       "2       Austria  {Sennheiser, N26, Rituals, Intrepid Travel, Mi...         47\n",
       "3   Switzerland  {Sennheiser, Dell, Mister Spex, Shopbop, Apple...         28\n",
       "4       Belgium  {ASICS, Shopbop, Apple Music, Jack & Jones, Un...         23\n",
       "7        Sweden  {Intrepid Travel, HelloFresh, ASICS, Shopbop, ...         23"
      ]
     },
     "execution_count": 7,
     "metadata": {},
     "output_type": "execute_result"
    }
   ],
   "source": [
    "temp_df"
   ]
  },
  {
   "cell_type": "code",
   "execution_count": 10,
   "id": "d53110b3-93d7-4e1c-907e-56d51138d491",
   "metadata": {},
   "outputs": [
    {
     "data": {
      "text/plain": [
       "Text(0, 0.5, '# Distinct Brands')"
      ]
     },
     "execution_count": 10,
     "metadata": {},
     "output_type": "execute_result"
    },
    {
     "data": {
      "image/png": "[encoded data removed]",
      "text/plain": [
       "<Figure size 432x288 with 1 Axes>"
      ]
     },
     "metadata": {
      "needs_background": "light"
     },
     "output_type": "display_data"
    }
   ],
   "source": [
    "ax = sns.barplot(x='country', y='num_brands', data=temp_df) \n",
    "for tick in ax.get_xticklabels():\n",
    "    tick.set_rotation(45)\n",
    "    \n",
    "ax.set_xlabel('Country')\n",
    "ax.set_ylabel('# Distinct Brands')"
   ]
  },
  {
   "cell_type": "code",
   "execution_count": null,
   "id": "c13b3ae6-f9fa-497b-98ea-1fda9e85020b",
   "metadata": {},
   "outputs": [],
   "source": []
  }
 ],
 "metadata": {
  "kernelspec": {
   "display_name": "unidays_scraper",
   "language": "python",
   "name": "unidays_scraper"
  },
  "language_info": {
   "codemirror_mode": {
    "name": "ipython",
    "version": 3
   },
   "file_extension": ".py",
   "mimetype": "text/x-python",
   "name": "python",
   "nbconvert_exporter": "python",
   "pygments_lexer": "ipython3",
   "version": "3.8.11"
  }
 },
 "nbformat": 4,
 "nbformat_minor": 5
}
